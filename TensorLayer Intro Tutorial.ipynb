{
 "cells": [
  {
   "cell_type": "markdown",
   "metadata": {},
   "source": [
    "# TensorLayer Intro Tutorial\n",
    "by John DeJesus \n",
    "\n",
    "This is the notebook for the [TensorLayer Introduction Tutorial Video](https://www.youtube.com/watch?v=sDKH2452IR8&feature=youtu.be&hd=1).<br>\n",
    "You may read this on its own or follow along with the video."
   ]
  },
  {
   "cell_type": "markdown",
   "metadata": {},
   "source": [
    "## From this tutorial you will learn\n",
    "\n",
    "* What TensorLayer is and its benefits.\n",
    "* How to build an Artifical Neural Network using TensorLayer."
   ]
  },
  {
   "cell_type": "markdown",
   "metadata": {},
   "source": [
    "###  What is TensorLayer? \n",
    "[TensorLayer](https://tensorlayer.readthedocs.io/en/stable/) is a Deep Learning library built on TensorFlow. The network construction is similar to Keras but takes components from TensorFlow to still integrate the graph structure."
   ]
  },
  {
   "cell_type": "code",
   "execution_count": 1,
   "metadata": {},
   "outputs": [],
   "source": [
    "# Load Libraries\n",
    "import pandas as pd\n",
    "import numpy as np\n",
    "import matplotlib.pyplot as plt\n",
    "import tensorflow as tf\n",
    "import tensorlayer as tl\n",
    "from sklearn.preprocessing import LabelBinarizer, MinMaxScaler\n",
    "\n",
    "%matplotlib inline"
   ]
  },
  {
   "cell_type": "markdown",
   "metadata": {},
   "source": [
    "Data Source: [Adult Income Census Data](https://archive.ics.uci.edu/ml/datasets/Adult)"
   ]
  },
  {
   "cell_type": "code",
   "execution_count": 2,
   "metadata": {},
   "outputs": [],
   "source": [
    "# Load the data\n",
    "adults_train = pd.read_csv('https://archive.ics.uci.edu/ml/machine-learning-databases/adult/adult.data')"
   ]
  },
  {
   "cell_type": "code",
   "execution_count": 3,
   "metadata": {},
   "outputs": [],
   "source": [
    "# Create columns since columns did not exist. Used from source of data.\n",
    "adults_train.columns =['Age','WorkClass','Fnlwgt','Education','EducationNum','MartialStatus','Occupation',\n",
    "                      'Relationship','Race','Sex','CapitalGain','CapitalLoss','HoursPerWeek','NativeCountry','SalaryCategory']"
   ]
  },
  {
   "cell_type": "markdown",
   "metadata": {},
   "source": [
    "#### **Note**\n",
    "Since the tutorial is focused on TensorLayer implementation, we are going to just take the numeric data and feature-engineer the SalaryCategory Column. In reality you should feature engineer the categorical values and feature scale the numeric data.<br> \n",
    "You should also apply feature selection to see if all the columns are truly necessary for the classifier.\n",
    "We will also not do a complete exploratory data analysis of the data for the same reason."
   ]
  },
  {
   "cell_type": "markdown",
   "metadata": {},
   "source": [
    "### Removing the Categorical Columns"
   ]
  },
  {
   "cell_type": "code",
   "execution_count": 4,
   "metadata": {},
   "outputs": [
    {
     "name": "stdout",
     "output_type": "stream",
     "text": [
      "<class 'pandas.core.frame.DataFrame'>\n",
      "RangeIndex: 32560 entries, 0 to 32559\n",
      "Data columns (total 15 columns):\n",
      "Age               32560 non-null int64\n",
      "WorkClass         32560 non-null object\n",
      "Fnlwgt            32560 non-null int64\n",
      "Education         32560 non-null object\n",
      "EducationNum      32560 non-null int64\n",
      "MartialStatus     32560 non-null object\n",
      "Occupation        32560 non-null object\n",
      "Relationship      32560 non-null object\n",
      "Race              32560 non-null object\n",
      "Sex               32560 non-null object\n",
      "CapitalGain       32560 non-null int64\n",
      "CapitalLoss       32560 non-null int64\n",
      "HoursPerWeek      32560 non-null int64\n",
      "NativeCountry     32560 non-null object\n",
      "SalaryCategory    32560 non-null object\n",
      "dtypes: int64(6), object(9)\n",
      "memory usage: 3.7+ MB\n"
     ]
    }
   ],
   "source": [
    "adults_train.info()"
   ]
  },
  {
   "cell_type": "code",
   "execution_count": 5,
   "metadata": {},
   "outputs": [],
   "source": [
    "# Get list of categorical \n",
    "def remove_cat_columns(data):\n",
    "    categorical_columns = []\n",
    "    for column in data.columns:\n",
    "        if data[column].dtype == 'O' and column != 'SalaryCategory':\n",
    "            categorical_columns.append(column)\n",
    "    return categorical_columns\n",
    "\n",
    "categorical_columns = remove_cat_columns(adults_train)"
   ]
  },
  {
   "cell_type": "code",
   "execution_count": 6,
   "metadata": {},
   "outputs": [],
   "source": [
    "# Remove Categorical columns for training\n",
    "adults_train_filtered = adults_train.drop(categorical_columns, axis=1)"
   ]
  },
  {
   "cell_type": "code",
   "execution_count": 7,
   "metadata": {},
   "outputs": [
    {
     "data": {
      "text/html": [
       "<div>\n",
       "<style scoped>\n",
       "    .dataframe tbody tr th:only-of-type {\n",
       "        vertical-align: middle;\n",
       "    }\n",
       "\n",
       "    .dataframe tbody tr th {\n",
       "        vertical-align: top;\n",
       "    }\n",
       "\n",
       "    .dataframe thead th {\n",
       "        text-align: right;\n",
       "    }\n",
       "</style>\n",
       "<table border=\"1\" class=\"dataframe\">\n",
       "  <thead>\n",
       "    <tr style=\"text-align: right;\">\n",
       "      <th></th>\n",
       "      <th>Age</th>\n",
       "      <th>Fnlwgt</th>\n",
       "      <th>EducationNum</th>\n",
       "      <th>CapitalGain</th>\n",
       "      <th>CapitalLoss</th>\n",
       "      <th>HoursPerWeek</th>\n",
       "      <th>SalaryCategory</th>\n",
       "    </tr>\n",
       "  </thead>\n",
       "  <tbody>\n",
       "    <tr>\n",
       "      <th>0</th>\n",
       "      <td>50</td>\n",
       "      <td>83311</td>\n",
       "      <td>13</td>\n",
       "      <td>0</td>\n",
       "      <td>0</td>\n",
       "      <td>13</td>\n",
       "      <td>&lt;=50K</td>\n",
       "    </tr>\n",
       "    <tr>\n",
       "      <th>1</th>\n",
       "      <td>38</td>\n",
       "      <td>215646</td>\n",
       "      <td>9</td>\n",
       "      <td>0</td>\n",
       "      <td>0</td>\n",
       "      <td>40</td>\n",
       "      <td>&lt;=50K</td>\n",
       "    </tr>\n",
       "    <tr>\n",
       "      <th>2</th>\n",
       "      <td>53</td>\n",
       "      <td>234721</td>\n",
       "      <td>7</td>\n",
       "      <td>0</td>\n",
       "      <td>0</td>\n",
       "      <td>40</td>\n",
       "      <td>&lt;=50K</td>\n",
       "    </tr>\n",
       "    <tr>\n",
       "      <th>3</th>\n",
       "      <td>28</td>\n",
       "      <td>338409</td>\n",
       "      <td>13</td>\n",
       "      <td>0</td>\n",
       "      <td>0</td>\n",
       "      <td>40</td>\n",
       "      <td>&lt;=50K</td>\n",
       "    </tr>\n",
       "    <tr>\n",
       "      <th>4</th>\n",
       "      <td>37</td>\n",
       "      <td>284582</td>\n",
       "      <td>14</td>\n",
       "      <td>0</td>\n",
       "      <td>0</td>\n",
       "      <td>40</td>\n",
       "      <td>&lt;=50K</td>\n",
       "    </tr>\n",
       "  </tbody>\n",
       "</table>\n",
       "</div>"
      ],
      "text/plain": [
       "   Age  Fnlwgt  EducationNum  CapitalGain  CapitalLoss  HoursPerWeek  \\\n",
       "0   50   83311            13            0            0            13   \n",
       "1   38  215646             9            0            0            40   \n",
       "2   53  234721             7            0            0            40   \n",
       "3   28  338409            13            0            0            40   \n",
       "4   37  284582            14            0            0            40   \n",
       "\n",
       "  SalaryCategory  \n",
       "0          <=50K  \n",
       "1          <=50K  \n",
       "2          <=50K  \n",
       "3          <=50K  \n",
       "4          <=50K  "
      ]
     },
     "execution_count": 7,
     "metadata": {},
     "output_type": "execute_result"
    }
   ],
   "source": [
    "# Check head of data to confirm categorical column removal\n",
    "adults_train_filtered.head()"
   ]
  },
  {
   "cell_type": "markdown",
   "metadata": {},
   "source": [
    "### Feature Engineering the Numeric Data and Labels"
   ]
  },
  {
   "cell_type": "code",
   "execution_count": 8,
   "metadata": {},
   "outputs": [],
   "source": [
    "# Separate Input data from Labels\n",
    "X = adults_train_filtered.drop(['SalaryCategory'],axis=1).values\n",
    "y = adults_train_filtered['SalaryCategory'].values"
   ]
  },
  {
   "cell_type": "code",
   "execution_count": 9,
   "metadata": {},
   "outputs": [],
   "source": [
    "# Binarize SalaryCategory Column\n",
    "lb = LabelBinarizer()\n",
    "y_lb= lb.fit_transform(y)"
   ]
  },
  {
   "cell_type": "code",
   "execution_count": 10,
   "metadata": {},
   "outputs": [
    {
     "data": {
      "text/plain": [
       "<matplotlib.axes._subplots.AxesSubplot at 0x116a0230358>"
      ]
     },
     "execution_count": 10,
     "metadata": {},
     "output_type": "execute_result"
    },
    {
     "data": {
      "image/png": "[encoded data removed]",
      "text/plain": [
       "<Figure size 432x288 with 1 Axes>"
      ]
     },
     "metadata": {},
     "output_type": "display_data"
    }
   ],
   "source": [
    "# Visualize the count of our labels\n",
    "adults_train_filtered.SalaryCategory.value_counts().plot.bar()"
   ]
  },
  {
   "cell_type": "markdown",
   "metadata": {},
   "source": [
    "So our classification results will not be optimal since our data is very imbalanced. Most of the people in this data file make less than or equal to 50K."
   ]
  },
  {
   "cell_type": "code",
   "execution_count": 11,
   "metadata": {},
   "outputs": [
    {
     "name": "stderr",
     "output_type": "stream",
     "text": [
      "C:\\Users\\Sabal\\Anaconda3\\lib\\site-packages\\sklearn\\utils\\validation.py:595: DataConversionWarning: Data with input dtype int64 was converted to float64 by MinMaxScaler.\n",
      "  warnings.warn(msg, DataConversionWarning)\n"
     ]
    }
   ],
   "source": [
    "# MinMaxScale the input data\n",
    "mms = MinMaxScaler()\n",
    "X_scaled = mms.fit_transform(X)"
   ]
  },
  {
   "cell_type": "code",
   "execution_count": 12,
   "metadata": {},
   "outputs": [
    {
     "data": {
      "text/plain": [
       "(32560, 6)"
      ]
     },
     "execution_count": 12,
     "metadata": {},
     "output_type": "execute_result"
    }
   ],
   "source": [
    "# Check shape for inputs\n",
    "X_scaled.shape"
   ]
  },
  {
   "cell_type": "code",
   "execution_count": 13,
   "metadata": {},
   "outputs": [
    {
     "data": {
      "text/plain": [
       "(32560, 1)"
      ]
     },
     "execution_count": 13,
     "metadata": {},
     "output_type": "execute_result"
    }
   ],
   "source": [
    "# Check shape of target values vector\n",
    "y_lb.shape"
   ]
  },
  {
   "cell_type": "code",
   "execution_count": 14,
   "metadata": {},
   "outputs": [],
   "source": [
    "# Flatten the target values vector\n",
    "y_lb = y_lb.flatten()"
   ]
  },
  {
   "cell_type": "code",
   "execution_count": 15,
   "metadata": {},
   "outputs": [
    {
     "data": {
      "text/plain": [
       "(32560,)"
      ]
     },
     "execution_count": 15,
     "metadata": {},
     "output_type": "execute_result"
    }
   ],
   "source": [
    "# See new shape of target values vector\n",
    "y_lb.shape"
   ]
  },
  {
   "cell_type": "markdown",
   "metadata": {},
   "source": [
    "Great! Now we are set to learn how to implement our TensorLayer ANN!"
   ]
  },
  {
   "cell_type": "markdown",
   "metadata": {},
   "source": [
    "## TensorLayer Model Construction"
   ]
  },
  {
   "cell_type": "code",
   "execution_count": 16,
   "metadata": {},
   "outputs": [],
   "source": [
    "# Initialize hyperparameters\n",
    "learning_rate = 0.001\n",
    "num_hidden = 6\n",
    "num_outputs = 2\n",
    "batch_size = 300\n",
    "n_epoch = 500\n",
    "print_freq = 5"
   ]
  },
  {
   "cell_type": "code",
   "execution_count": 17,
   "metadata": {},
   "outputs": [],
   "source": [
    "# Reset the graph\n",
    "tf.reset_default_graph()"
   ]
  },
  {
   "cell_type": "code",
   "execution_count": 18,
   "metadata": {},
   "outputs": [],
   "source": [
    "# Set up placeholders\n",
    "x = tf.placeholder(tf.float32, shape=[None,6], name='x')\n",
    "y_ = tf.placeholder(tf.int64,shape=[None,], name='y_')"
   ]
  },
  {
   "cell_type": "code",
   "execution_count": 19,
   "metadata": {},
   "outputs": [],
   "source": [
    "# Initiate interactive session\n",
    "sess = tf.InteractiveSession()"
   ]
  },
  {
   "cell_type": "code",
   "execution_count": 20,
   "metadata": {},
   "outputs": [],
   "source": [
    "# create a variable for the relu function\n",
    "act = tf.nn.relu"
   ]
  },
  {
   "cell_type": "code",
   "execution_count": 21,
   "metadata": {},
   "outputs": [
    {
     "name": "stdout",
     "output_type": "stream",
     "text": [
      "[TL] InputLayer  input: (?, 6)\n",
      "[TL] DenseLayer  h1: 6 relu\n",
      "[TL] DenseLayer  h2: 6 relu\n",
      "[TL] DenseLayer  h3: 6 relu\n",
      "[TL] DenseLayer  output: 2 No Activation\n"
     ]
    }
   ],
   "source": [
    "# Build the network\n",
    "network = tl.layers.InputLayer(x, name='input')\n",
    "network = tl.layers.DenseLayer(network, n_units=num_hidden, act=act, name='h1')\n",
    "network = tl.layers.DenseLayer(network, n_units=num_hidden, act=act, name='h2')\n",
    "network = tl.layers.DenseLayer(network, n_units=num_hidden, act=act, name='h3')\n",
    "network = tl.layers.DenseLayer(network, n_units=num_outputs, act=tf.identity, name='output')"
   ]
  },
  {
   "cell_type": "code",
   "execution_count": 22,
   "metadata": {},
   "outputs": [],
   "source": [
    "# Set up cost and metric\n",
    "y = network.outputs\n",
    "cost = tl.cost.cross_entropy(y, y_, name='cross_entropy')\n",
    "correct_prediction = tf.equal(tf.argmax(y,1),y_)\n",
    "accuracy = tf.reduce_mean(tf.cast(correct_prediction, tf.int64))\n",
    "y_op = tf.argmax(tf.nn.softmax(y),1)"
   ]
  },
  {
   "cell_type": "code",
   "execution_count": 23,
   "metadata": {},
   "outputs": [],
   "source": [
    "# Set up optimizer\n",
    "train_params = network.all_params\n",
    "optimizer = tf.train.AdamOptimizer(learning_rate=learning_rate)\n",
    "train_op = optimizer.minimize(cost, var_list=train_params)"
   ]
  },
  {
   "cell_type": "code",
   "execution_count": 24,
   "metadata": {},
   "outputs": [],
   "source": [
    "# Initialize all variables in the session\n",
    "sess.run(tf.global_variables_initializer())"
   ]
  },
  {
   "cell_type": "code",
   "execution_count": 25,
   "metadata": {
    "scrolled": false
   },
   "outputs": [
    {
     "name": "stdout",
     "output_type": "stream",
     "text": [
      "[TL] Start training the network ...\n",
      "[TL] Epoch 1 of 500 took 0.405915s, loss 1.291261\n",
      "[TL] Epoch 5 of 500 took 0.292311s, loss 0.563682\n",
      "[TL] Epoch 10 of 500 took 0.316157s, loss 0.551165\n",
      "[TL] Epoch 15 of 500 took 0.365024s, loss 0.511147\n",
      "[TL] Epoch 20 of 500 took 0.301195s, loss 0.440265\n",
      "[TL] Epoch 25 of 500 took 0.269859s, loss 0.417860\n",
      "[TL] Epoch 30 of 500 took 0.303189s, loss 0.411469\n",
      "[TL] Epoch 35 of 500 took 0.332114s, loss 0.409205\n",
      "[TL] Epoch 40 of 500 took 0.296206s, loss 0.407935\n",
      "[TL] Epoch 45 of 500 took 0.297157s, loss 0.407661\n",
      "[TL] Epoch 50 of 500 took 0.301194s, loss 0.407478\n",
      "[TL] Epoch 55 of 500 took 0.269281s, loss 0.407869\n",
      "[TL] Epoch 60 of 500 took 0.265290s, loss 0.407115\n",
      "[TL] Epoch 65 of 500 took 0.259306s, loss 0.407285\n",
      "[TL] Epoch 70 of 500 took 0.264293s, loss 0.407402\n",
      "[TL] Epoch 75 of 500 took 0.261236s, loss 0.407309\n",
      "[TL] Epoch 80 of 500 took 0.292220s, loss 0.406821\n",
      "[TL] Epoch 85 of 500 took 0.282289s, loss 0.407436\n",
      "[TL] Epoch 90 of 500 took 0.265289s, loss 0.407018\n",
      "[TL] Epoch 95 of 500 took 0.278257s, loss 0.406737\n",
      "[TL] Epoch 100 of 500 took 0.284241s, loss 0.407073\n",
      "[TL] Epoch 105 of 500 took 0.378642s, loss 0.407163\n",
      "[TL] Epoch 110 of 500 took 0.286344s, loss 0.406786\n",
      "[TL] Epoch 115 of 500 took 0.281439s, loss 0.407247\n",
      "[TL] Epoch 120 of 500 took 0.267343s, loss 0.406398\n",
      "[TL] Epoch 125 of 500 took 0.275350s, loss 0.407044\n",
      "[TL] Epoch 130 of 500 took 0.305853s, loss 0.407422\n",
      "[TL] Epoch 135 of 500 took 0.315158s, loss 0.406562\n",
      "[TL] Epoch 140 of 500 took 0.270991s, loss 0.407182\n",
      "[TL] Epoch 145 of 500 took 0.258309s, loss 0.407248\n",
      "[TL] Epoch 150 of 500 took 0.261355s, loss 0.407058\n",
      "[TL] Epoch 155 of 500 took 0.299202s, loss 0.407022\n",
      "[TL] Epoch 160 of 500 took 0.285267s, loss 0.407180\n",
      "[TL] Epoch 165 of 500 took 0.282245s, loss 0.406781\n",
      "[TL] Epoch 170 of 500 took 0.278256s, loss 0.406884\n",
      "[TL] Epoch 175 of 500 took 0.283243s, loss 0.407104\n",
      "[TL] Epoch 180 of 500 took 0.262296s, loss 0.407216\n",
      "[TL] Epoch 185 of 500 took 0.282244s, loss 0.406951\n",
      "[TL] Epoch 190 of 500 took 0.276264s, loss 0.406995\n",
      "[TL] Epoch 195 of 500 took 0.272272s, loss 0.407016\n",
      "[TL] Epoch 200 of 500 took 0.255415s, loss 0.407186\n",
      "[TL] Epoch 205 of 500 took 0.270273s, loss 0.407256\n",
      "[TL] Epoch 210 of 500 took 0.275239s, loss 0.407088\n",
      "[TL] Epoch 215 of 500 took 0.280251s, loss 0.407217\n",
      "[TL] Epoch 220 of 500 took 0.269279s, loss 0.406716\n",
      "[TL] Epoch 225 of 500 took 0.272293s, loss 0.406774\n",
      "[TL] Epoch 230 of 500 took 0.284307s, loss 0.407339\n",
      "[TL] Epoch 235 of 500 took 0.277259s, loss 0.406840\n",
      "[TL] Epoch 240 of 500 took 0.353998s, loss 0.407200\n",
      "[TL] Epoch 245 of 500 took 0.391972s, loss 0.407102\n",
      "[TL] Epoch 250 of 500 took 0.260233s, loss 0.406920\n",
      "[TL] Epoch 255 of 500 took 0.288229s, loss 0.407532\n",
      "[TL] Epoch 260 of 500 took 0.260445s, loss 0.407243\n",
      "[TL] Epoch 265 of 500 took 0.287233s, loss 0.407065\n",
      "[TL] Epoch 270 of 500 took 0.312335s, loss 0.406828\n",
      "[TL] Epoch 275 of 500 took 0.370926s, loss 0.406940\n",
      "[TL] Epoch 280 of 500 took 0.286235s, loss 0.407174\n",
      "[TL] Epoch 285 of 500 took 0.306960s, loss 0.406968\n",
      "[TL] Epoch 290 of 500 took 0.313163s, loss 0.407313\n",
      "[TL] Epoch 295 of 500 took 0.301197s, loss 0.407355\n",
      "[TL] Epoch 300 of 500 took 0.273385s, loss 0.406999\n",
      "[TL] Epoch 305 of 500 took 0.262308s, loss 0.406993\n",
      "[TL] Epoch 310 of 500 took 0.269253s, loss 0.407055\n",
      "[TL] Epoch 315 of 500 took 0.266289s, loss 0.406884\n",
      "[TL] Epoch 320 of 500 took 0.274349s, loss 0.407201\n",
      "[TL] Epoch 325 of 500 took 0.271394s, loss 0.406985\n",
      "[TL] Epoch 330 of 500 took 0.277258s, loss 0.407090\n",
      "[TL] Epoch 335 of 500 took 0.276260s, loss 0.407116\n",
      "[TL] Epoch 340 of 500 took 0.279286s, loss 0.406774\n",
      "[TL] Epoch 345 of 500 took 0.296140s, loss 0.406751\n",
      "[TL] Epoch 350 of 500 took 0.221408s, loss 0.406754\n",
      "[TL] Epoch 355 of 500 took 0.259308s, loss 0.407111\n",
      "[TL] Epoch 360 of 500 took 0.279304s, loss 0.407355\n",
      "[TL] Epoch 365 of 500 took 0.263297s, loss 0.407285\n",
      "[TL] Epoch 370 of 500 took 0.257312s, loss 0.407218\n",
      "[TL] Epoch 375 of 500 took 0.256312s, loss 0.407073\n",
      "[TL] Epoch 380 of 500 took 0.262299s, loss 0.406519\n",
      "[TL] Epoch 385 of 500 took 0.261420s, loss 0.407289\n",
      "[TL] Epoch 390 of 500 took 0.259307s, loss 0.407266\n",
      "[TL] Epoch 395 of 500 took 0.258239s, loss 0.407126\n",
      "[TL] Epoch 400 of 500 took 0.257312s, loss 0.407090\n",
      "[TL] Epoch 405 of 500 took 0.262301s, loss 0.406837\n",
      "[TL] Epoch 410 of 500 took 0.260309s, loss 0.407053\n",
      "[TL] Epoch 415 of 500 took 0.259470s, loss 0.406834\n",
      "[TL] Epoch 420 of 500 took 0.263297s, loss 0.407279\n",
      "[TL] Epoch 425 of 500 took 0.265176s, loss 0.406866\n",
      "[TL] Epoch 430 of 500 took 0.261324s, loss 0.407044\n",
      "[TL] Epoch 435 of 500 took 0.261326s, loss 0.407228\n",
      "[TL] Epoch 440 of 500 took 0.330136s, loss 0.406915\n",
      "[TL] Epoch 445 of 500 took 0.292218s, loss 0.407209\n",
      "[TL] Epoch 450 of 500 took 0.272273s, loss 0.406769\n",
      "[TL] Epoch 455 of 500 took 0.324134s, loss 0.407216\n",
      "[TL] Epoch 460 of 500 took 0.256315s, loss 0.406854\n",
      "[TL] Epoch 465 of 500 took 0.298204s, loss 0.407226\n",
      "[TL] Epoch 470 of 500 took 0.272273s, loss 0.406939\n",
      "[TL] Epoch 475 of 500 took 0.316489s, loss 0.407120\n",
      "[TL] Epoch 480 of 500 took 0.280253s, loss 0.407193\n",
      "[TL] Epoch 485 of 500 took 0.307240s, loss 0.407120\n",
      "[TL] Epoch 490 of 500 took 0.296207s, loss 0.407195\n",
      "[TL] Epoch 495 of 500 took 0.282941s, loss 0.407248\n",
      "[TL] Epoch 500 of 500 took 0.296211s, loss 0.406742\n",
      "[TL] Total training time: 141.802833s\n"
     ]
    }
   ],
   "source": [
    "# Fit the model\n",
    "tl.utils.fit(sess, network, train_op, cost, X_scaled, y_lb, x, y_, acc=accuracy,\n",
    "             n_epoch=n_epoch, print_freq=print_freq,\n",
    "            eval_train=False)"
   ]
  },
  {
   "cell_type": "code",
   "execution_count": 26,
   "metadata": {},
   "outputs": [],
   "source": [
    "# get predictions\n",
    "y_pred = tl.utils.predict(sess, network, X_scaled, x=x, y_op=y_op)"
   ]
  },
  {
   "cell_type": "code",
   "execution_count": 27,
   "metadata": {},
   "outputs": [
    {
     "name": "stdout",
     "output_type": "stream",
     "text": [
      "[TL] confusion matrix: \n",
      "[[23528  1191]\n",
      " [ 4841  3000]]\n",
      "[TL] f1-score        : [0.88637734 0.49867021]\n",
      "[TL] f1-score(macro) : 0.692524\n",
      "[TL] accuracy-score  : 0.814742\n"
     ]
    }
   ],
   "source": [
    "# evaluate the predictions\n",
    "results = tl.utils.evaluation(y_lb,y_pred, n_classes=2)"
   ]
  },
  {
   "cell_type": "markdown",
   "metadata": {},
   "source": [
    "# Apply Test Data to Model"
   ]
  },
  {
   "cell_type": "code",
   "execution_count": 28,
   "metadata": {},
   "outputs": [],
   "source": [
    "# load the test data\n",
    "adults_test = pd.read_csv('https://archive.ics.uci.edu/ml/machine-learning-databases/adult/adult.test', header=1)"
   ]
  },
  {
   "cell_type": "code",
   "execution_count": 29,
   "metadata": {},
   "outputs": [
    {
     "data": {
      "text/html": [
       "<div>\n",
       "<style scoped>\n",
       "    .dataframe tbody tr th:only-of-type {\n",
       "        vertical-align: middle;\n",
       "    }\n",
       "\n",
       "    .dataframe tbody tr th {\n",
       "        vertical-align: top;\n",
       "    }\n",
       "\n",
       "    .dataframe thead th {\n",
       "        text-align: right;\n",
       "    }\n",
       "</style>\n",
       "<table border=\"1\" class=\"dataframe\">\n",
       "  <thead>\n",
       "    <tr style=\"text-align: right;\">\n",
       "      <th></th>\n",
       "      <th>25</th>\n",
       "      <th>Private</th>\n",
       "      <th>226802</th>\n",
       "      <th>11th</th>\n",
       "      <th>7</th>\n",
       "      <th>Never-married</th>\n",
       "      <th>Machine-op-inspct</th>\n",
       "      <th>Own-child</th>\n",
       "      <th>Black</th>\n",
       "      <th>Male</th>\n",
       "      <th>0</th>\n",
       "      <th>0.1</th>\n",
       "      <th>40</th>\n",
       "      <th>United-States</th>\n",
       "      <th>&lt;=50K.</th>\n",
       "    </tr>\n",
       "  </thead>\n",
       "  <tbody>\n",
       "    <tr>\n",
       "      <th>0</th>\n",
       "      <td>38</td>\n",
       "      <td>Private</td>\n",
       "      <td>89814</td>\n",
       "      <td>HS-grad</td>\n",
       "      <td>9</td>\n",
       "      <td>Married-civ-spouse</td>\n",
       "      <td>Farming-fishing</td>\n",
       "      <td>Husband</td>\n",
       "      <td>White</td>\n",
       "      <td>Male</td>\n",
       "      <td>0</td>\n",
       "      <td>0</td>\n",
       "      <td>50</td>\n",
       "      <td>United-States</td>\n",
       "      <td>&lt;=50K.</td>\n",
       "    </tr>\n",
       "    <tr>\n",
       "      <th>1</th>\n",
       "      <td>28</td>\n",
       "      <td>Local-gov</td>\n",
       "      <td>336951</td>\n",
       "      <td>Assoc-acdm</td>\n",
       "      <td>12</td>\n",
       "      <td>Married-civ-spouse</td>\n",
       "      <td>Protective-serv</td>\n",
       "      <td>Husband</td>\n",
       "      <td>White</td>\n",
       "      <td>Male</td>\n",
       "      <td>0</td>\n",
       "      <td>0</td>\n",
       "      <td>40</td>\n",
       "      <td>United-States</td>\n",
       "      <td>&gt;50K.</td>\n",
       "    </tr>\n",
       "    <tr>\n",
       "      <th>2</th>\n",
       "      <td>44</td>\n",
       "      <td>Private</td>\n",
       "      <td>160323</td>\n",
       "      <td>Some-college</td>\n",
       "      <td>10</td>\n",
       "      <td>Married-civ-spouse</td>\n",
       "      <td>Machine-op-inspct</td>\n",
       "      <td>Husband</td>\n",
       "      <td>Black</td>\n",
       "      <td>Male</td>\n",
       "      <td>7688</td>\n",
       "      <td>0</td>\n",
       "      <td>40</td>\n",
       "      <td>United-States</td>\n",
       "      <td>&gt;50K.</td>\n",
       "    </tr>\n",
       "    <tr>\n",
       "      <th>3</th>\n",
       "      <td>18</td>\n",
       "      <td>?</td>\n",
       "      <td>103497</td>\n",
       "      <td>Some-college</td>\n",
       "      <td>10</td>\n",
       "      <td>Never-married</td>\n",
       "      <td>?</td>\n",
       "      <td>Own-child</td>\n",
       "      <td>White</td>\n",
       "      <td>Female</td>\n",
       "      <td>0</td>\n",
       "      <td>0</td>\n",
       "      <td>30</td>\n",
       "      <td>United-States</td>\n",
       "      <td>&lt;=50K.</td>\n",
       "    </tr>\n",
       "    <tr>\n",
       "      <th>4</th>\n",
       "      <td>34</td>\n",
       "      <td>Private</td>\n",
       "      <td>198693</td>\n",
       "      <td>10th</td>\n",
       "      <td>6</td>\n",
       "      <td>Never-married</td>\n",
       "      <td>Other-service</td>\n",
       "      <td>Not-in-family</td>\n",
       "      <td>White</td>\n",
       "      <td>Male</td>\n",
       "      <td>0</td>\n",
       "      <td>0</td>\n",
       "      <td>30</td>\n",
       "      <td>United-States</td>\n",
       "      <td>&lt;=50K.</td>\n",
       "    </tr>\n",
       "  </tbody>\n",
       "</table>\n",
       "</div>"
      ],
      "text/plain": [
       "   25     Private   226802           11th   7        Never-married  \\\n",
       "0  38     Private    89814        HS-grad   9   Married-civ-spouse   \n",
       "1  28   Local-gov   336951     Assoc-acdm  12   Married-civ-spouse   \n",
       "2  44     Private   160323   Some-college  10   Married-civ-spouse   \n",
       "3  18           ?   103497   Some-college  10        Never-married   \n",
       "4  34     Private   198693           10th   6        Never-married   \n",
       "\n",
       "    Machine-op-inspct       Own-child   Black     Male     0   0.1   40  \\\n",
       "0     Farming-fishing         Husband   White     Male     0     0   50   \n",
       "1     Protective-serv         Husband   White     Male     0     0   40   \n",
       "2   Machine-op-inspct         Husband   Black     Male  7688     0   40   \n",
       "3                   ?       Own-child   White   Female     0     0   30   \n",
       "4       Other-service   Not-in-family   White     Male     0     0   30   \n",
       "\n",
       "    United-States   <=50K.  \n",
       "0   United-States   <=50K.  \n",
       "1   United-States    >50K.  \n",
       "2   United-States    >50K.  \n",
       "3   United-States   <=50K.  \n",
       "4   United-States   <=50K.  "
      ]
     },
     "execution_count": 29,
     "metadata": {},
     "output_type": "execute_result"
    }
   ],
   "source": [
    "# check test data head\n",
    "adults_test.head()"
   ]
  },
  {
   "cell_type": "code",
   "execution_count": 30,
   "metadata": {},
   "outputs": [],
   "source": [
    "# Assign Proper Columns\n",
    "adults_test.columns = adults_train.columns"
   ]
  },
  {
   "cell_type": "code",
   "execution_count": 31,
   "metadata": {},
   "outputs": [],
   "source": [
    "# Remove categorical Columns\n",
    "categorical_columns = remove_cat_columns(adults_test)\n",
    "adults_test_filtered = adults_test.drop(categorical_columns, axis=1)"
   ]
  },
  {
   "cell_type": "code",
   "execution_count": 32,
   "metadata": {},
   "outputs": [],
   "source": [
    "# Separate test inputs from test labels\n",
    "X_test = adults_test_filtered.drop(['SalaryCategory'], axis=1).values\n",
    "y_test = adults_test_filtered['SalaryCategory'].values"
   ]
  },
  {
   "cell_type": "code",
   "execution_count": 33,
   "metadata": {},
   "outputs": [],
   "source": [
    "# Transform test inputs with minmaxscaler\n",
    "X_test_scaled = mms.transform(X_test)"
   ]
  },
  {
   "cell_type": "code",
   "execution_count": 34,
   "metadata": {},
   "outputs": [],
   "source": [
    "# Binarize test labels\n",
    "y_test_lb = lb.fit_transform(y_test).flatten()"
   ]
  },
  {
   "cell_type": "code",
   "execution_count": 35,
   "metadata": {},
   "outputs": [
    {
     "data": {
      "text/plain": [
       "<matplotlib.axes._subplots.AxesSubplot at 0x116a0b5ab38>"
      ]
     },
     "execution_count": 35,
     "metadata": {},
     "output_type": "execute_result"
    },
    {
     "data": {
      "image/png": "[encoded data removed]",
      "text/plain": [
       "<Figure size 432x288 with 1 Axes>"
      ]
     },
     "metadata": {},
     "output_type": "display_data"
    }
   ],
   "source": [
    "# Visualize the count of our labels\n",
    "adults_test_filtered.SalaryCategory.value_counts().plot.bar()"
   ]
  },
  {
   "cell_type": "code",
   "execution_count": 36,
   "metadata": {},
   "outputs": [
    {
     "data": {
      "text/plain": [
       "(16280,)"
      ]
     },
     "execution_count": 36,
     "metadata": {},
     "output_type": "execute_result"
    }
   ],
   "source": [
    "# Check test labels shape\n",
    "y_test_lb.shape"
   ]
  },
  {
   "cell_type": "code",
   "execution_count": 37,
   "metadata": {},
   "outputs": [],
   "source": [
    "# Apply test inputs to model\n",
    "y_pred_test = tl.utils.predict(sess, network, X_test_scaled, x=x, y_op=y_op)"
   ]
  },
  {
   "cell_type": "code",
   "execution_count": 38,
   "metadata": {},
   "outputs": [
    {
     "name": "stdout",
     "output_type": "stream",
     "text": [
      "[TL] confusion matrix: \n",
      "[[11801   633]\n",
      " [ 2412  1434]]\n",
      "[TL] f1-score        : [0.88572822 0.48503298]\n",
      "[TL] f1-score(macro) : 0.685381\n",
      "[TL] accuracy-score  : 0.812961\n"
     ]
    }
   ],
   "source": [
    "# Get metrics from test vs predicted test labels such as accuracy, f1-score, and the confusion matrix\n",
    "results_test = tl.utils.evaluation(y_test_lb, y_pred_test, n_classes=2)"
   ]
  },
  {
   "cell_type": "code",
   "execution_count": 39,
   "metadata": {},
   "outputs": [
    {
     "name": "stdout",
     "output_type": "stream",
     "text": [
      "[TL] [*] Model saved in npz_dict adult_ann_basic.npz\n"
     ]
    }
   ],
   "source": [
    "# save  the model\n",
    "tl.files.save_npz_dict(train_params,name='adult_ann_basic.npz',sess=sess)"
   ]
  },
  {
   "cell_type": "code",
   "execution_count": 40,
   "metadata": {},
   "outputs": [],
   "source": [
    "# Close the session. Don't forget to do this for the interactive sessions.\n",
    "sess.close()"
   ]
  },
  {
   "cell_type": "markdown",
   "metadata": {},
   "source": [
    "# Practice Exercises\n",
    "\n",
    "* Implement your own ANN with TensorLayer on a data set of your choice.\n",
    "* Read through the [examples in the TensorLayer documentation](https://tensorlayer.readthedocs.io/en/stable/user/examples.html).\n",
    "* Build another neural network of your choice with TensorLayer.\n",
    "\n",
    "# Summary\n",
    "\n",
    "* TensorLayer can serve as an easier means of using and/or transitioning into TensorFlow\n",
    "* You now have an example of how to build an Artifical Neural Network with TensorLayer \n",
    "\n",
    "\n",
    "# Thanks for watching/reading! Let me know if you found this helpful by hitting\n",
    "# 'like' on the video and subscribing to my Youtube Channel.\n",
    "\n",
    "* [Video Tutorial](https://www.youtube.com/watch?v=sDKH2452IR8&feature=youtu.be&hd=1)\n",
    "* [GitHub](http://github.com/johndeJesus22)\n",
    "* [Twitter](https://twitter.com/johnnydata22)\n",
    "* [LinkedIn](https://www.linkedin.com/in/jdejesus22/)\n"
   ]
  },
  {
   "cell_type": "code",
   "execution_count": null,
   "metadata": {},
   "outputs": [],
   "source": []
  }
 ],
 "metadata": {
  "kernelspec": {
   "display_name": "Python 3",
   "language": "python",
   "name": "python3"
  },
  "language_info": {
   "codemirror_mode": {
    "name": "ipython",
    "version": 3
   },
   "file_extension": ".py",
   "mimetype": "text/x-python",
   "name": "python",
   "nbconvert_exporter": "python",
   "pygments_lexer": "ipython3",
   "version": "3.6.5"
  }
 },
 "nbformat": 4,
 "nbformat_minor": 2
}
