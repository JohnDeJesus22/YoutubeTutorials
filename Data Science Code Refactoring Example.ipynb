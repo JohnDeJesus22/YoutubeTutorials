{
 "cells": [
  {
   "cell_type": "markdown",
   "metadata": {},
   "source": [
    "# Data Science Code Refactoring Example\n",
    "by John DeJesus\n",
    "\n",
    "This is the notebook for the [Data Science Code Refactoring Example Video](https://www.youtube.com/watch?v=zIakz2_b1Lc).<br>\n",
    "The function used is from the [ECDF Youtube Tutorial](https://github.com/JohnDeJesus22/YoutubeTutorials/blob/master/What%2C%20Why%2C%20and%20How%20to%20use%20ECDFs.ipynb).<br>\n",
    "You may read this on its own or follow along with the video."
   ]
  },
  {
   "cell_type": "markdown",
   "metadata": {},
   "source": [
    "## From this example you will be able to:\n",
    "\n",
    "* Understand an example of code refactoring.\n",
    "* Begin to see the trade off of memory vs speed through a function.\n"
   ]
  },
  {
   "cell_type": "markdown",
   "metadata": {},
   "source": [
    "###  What is Code Refactoring? \n",
    "It is the modification of code to make improvements in readability and performance."
   ]
  },
  {
   "cell_type": "code",
   "execution_count": 1,
   "metadata": {},
   "outputs": [],
   "source": [
    "# Load Libraries\n",
    "import pandas as pd\n",
    "import numpy as np\n",
    "import matplotlib.pyplot as plt\n",
    "import seaborn as sns\n",
    "import time\n",
    "\n",
    "%matplotlib inline\n",
    "sns.set()"
   ]
  },
  {
   "cell_type": "code",
   "execution_count": 2,
   "metadata": {},
   "outputs": [],
   "source": [
    "# Load the data from data.world\n",
    "avocado = pd.read_csv('https://query.data.world/s/qou5hvocejsu4qt4qb2xlndg5ntzbm')"
   ]
  },
  {
   "cell_type": "markdown",
   "metadata": {},
   "source": [
    "### Recall our function to plot an ecdf. Look at the line where we create the y-axis."
   ]
  },
  {
   "cell_type": "code",
   "execution_count": 3,
   "metadata": {},
   "outputs": [],
   "source": [
    "# Create a function for computing and plotting the ECDF with default parameters\n",
    "def plot_ecdf(data,title = \"ECDF Plot\", xlabel = 'Data Values', ylabel = 'Percentage'):\n",
    "    \n",
    "    \"\"\" \n",
    "    Function to plot ecdf taking a column of data as input.\n",
    "    \"\"\"\n",
    "    xaxis = np.sort(data)\n",
    "    yaxis = np.arange(1, len(data)+1)/len(data)################\n",
    "    plt.plot(xaxis,yaxis,linestyle='none',marker='.')\n",
    "    plt.title(title)\n",
    "    plt.xlabel(xlabel)\n",
    "    plt.ylabel(ylabel)\n",
    "    plt.margins(0.02)"
   ]
  },
  {
   "cell_type": "markdown",
   "metadata": {},
   "source": [
    "Notice that we call the `len()` function twice. In exchange for a little bit of memory usage, we can make this code more efficient in terms of speed. \n",
    "Specifically, we can assign the length of the data to a variable `length`. This will save this value in memory and allow us to access it for creating the y-axis."
   ]
  },
  {
   "cell_type": "markdown",
   "metadata": {},
   "source": [
    "So we trade<br>\n",
    "`yaxis = np.arange(1, len(data)+1)/len(data)`<br>\n",
    "for<br>\n",
    "`length = len(data)`<br>\n",
    "`yaxis = np.arange(1,length+1)/length`"
   ]
  },
  {
   "cell_type": "markdown",
   "metadata": {},
   "source": [
    "#### ECDF Function with modifications"
   ]
  },
  {
   "cell_type": "code",
   "execution_count": 4,
   "metadata": {},
   "outputs": [],
   "source": [
    "def plot_ecdf_vtwo(data,title = \"ECDF Plot\", xlabel = 'Data Values', ylabel = 'Percentage'):\n",
    "    \n",
    "    \"\"\" \n",
    "    Function to plot ecdf taking a column of data as input.\n",
    "    \"\"\"\n",
    "    xaxis = np.sort(data)\n",
    "    length = len(data)###################\n",
    "    yaxis = np.arange(1,length+1)/length#####################\n",
    "    plt.plot(xaxis,yaxis,linestyle='none',marker='.')\n",
    "    plt.title(title)\n",
    "    plt.xlabel(xlabel)\n",
    "    plt.ylabel(ylabel)\n",
    "    plt.margins(0.02)"
   ]
  },
  {
   "cell_type": "markdown",
   "metadata": {},
   "source": [
    "### Function Comparision"
   ]
  },
  {
   "cell_type": "markdown",
   "metadata": {},
   "source": [
    "Now lets compare the run time a bit of each function."
   ]
  },
  {
   "cell_type": "code",
   "execution_count": 5,
   "metadata": {},
   "outputs": [
    {
     "name": "stdout",
     "output_type": "stream",
     "text": [
      "0.04869723320007324\n"
     ]
    },
    {
     "data": {
      "image/png": "[encoded data removed]",
      "text/plain": [
       "<Figure size 432x288 with 1 Axes>"
      ]
     },
     "metadata": {},
     "output_type": "display_data"
    }
   ],
   "source": [
    "start1 = time.time()\n",
    "plot_ecdf(avocado['AveragePrice'])\n",
    "end1 = time.time()\n",
    "diff1 = end1-start1\n",
    "print(diff1)"
   ]
  },
  {
   "cell_type": "code",
   "execution_count": 6,
   "metadata": {},
   "outputs": [
    {
     "name": "stdout",
     "output_type": "stream",
     "text": [
      "0.02929234504699707\n"
     ]
    },
    {
     "data": {
      "image/png": "[encoded data removed]",
      "text/plain": [
       "<Figure size 432x288 with 1 Axes>"
      ]
     },
     "metadata": {},
     "output_type": "display_data"
    }
   ],
   "source": [
    "start2 = time.time()\n",
    "plot_ecdf_vtwo(avocado['AveragePrice'])\n",
    "end2 = time.time()\n",
    "diff2 = end2-start2\n",
    "print(diff2)"
   ]
  },
  {
   "cell_type": "code",
   "execution_count": 7,
   "metadata": {},
   "outputs": [
    {
     "data": {
      "text/plain": [
       "0.019404888153076172"
      ]
     },
     "execution_count": 7,
     "metadata": {},
     "output_type": "execute_result"
    }
   ],
   "source": [
    "diff1-diff2"
   ]
  },
  {
   "cell_type": "markdown",
   "metadata": {},
   "source": [
    "Nice! We saved about 2 hundredth of a second! This may not seem like much for this task, but consider when you are working with a large amount of data, building a machine learning model, or a web-based dashboard. This is extra efficiently that can be provided so that your work runs faster and smoother."
   ]
  },
  {
   "cell_type": "markdown",
   "metadata": {},
   "source": [
    "# Practice Exercises\n",
    "\n",
    "* Study [more code refactoring examples](https://pybit.es/refactoring.html).\n",
    "* Review your own code.\n",
    "* Look for code where you are reusing a function more than once. Then try to refactor the code so you are only using that function only once.\n",
    "\n",
    "\n",
    "# Summary\n",
    "\n",
    "* Code Refactoring is done to make code more readable and improve performance. \n",
    "* This will allow your analysis and ML projects to run more efficiently.\n",
    "\n",
    "\n",
    "# Thanks for watching/reading! Let me know if you found this helpful by hitting\n",
    "# 'like' on the video and subscribing to my Youtube Channel.\n",
    "\n",
    "* [Tony Fischetti Twitter](https://twitter.com/tonyfischetti?lang=en)\n",
    "* [Video Tutorial](https://www.youtube.com/watch?v=zIakz2_b1Lc)\n",
    "* [GitHub](http://github.com/johndeJesus22)\n",
    "* [Twitter](https://twitter.com/johnnydata22)\n",
    "* [LinkedIn](https://www.linkedin.com/in/jdejesus22/)\n"
   ]
  },
  {
   "cell_type": "code",
   "execution_count": null,
   "metadata": {},
   "outputs": [],
   "source": []
  }
 ],
 "metadata": {
  "kernelspec": {
   "display_name": "Python 3",
   "language": "python",
   "name": "python3"
  },
  "language_info": {
   "codemirror_mode": {
    "name": "ipython",
    "version": 3
   },
   "file_extension": ".py",
   "mimetype": "text/x-python",
   "name": "python",
   "nbconvert_exporter": "python",
   "pygments_lexer": "ipython3",
   "version": "3.6.5"
  }
 },
 "nbformat": 4,
 "nbformat_minor": 2
}
